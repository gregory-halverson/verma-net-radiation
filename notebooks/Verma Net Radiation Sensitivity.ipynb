{
 "cells": [
  {
   "cell_type": "code",
   "execution_count": 1,
   "metadata": {},
   "outputs": [],
   "source": [
    "import numpy as np\n",
    "import pandas as pd\n",
    "from monte_carlo_sensitivity import perturbed_run, sensitivity_analysis\n",
    "from verma_net_radiation import verma_net_radiation_table\n",
    "import matplotlib.pyplot as plt\n",
    "import seaborn as sns"
   ]
  },
  {
   "cell_type": "code",
   "execution_count": 2,
   "metadata": {},
   "outputs": [
    {
     "data": {
      "text/html": [
       "<div>\n",
       "<style scoped>\n",
       "    .dataframe tbody tr th:only-of-type {\n",
       "        vertical-align: middle;\n",
       "    }\n",
       "\n",
       "    .dataframe tbody tr th {\n",
       "        vertical-align: top;\n",
       "    }\n",
       "\n",
       "    .dataframe thead th {\n",
       "        text-align: right;\n",
       "    }\n",
       "</style>\n",
       "<table border=\"1\" class=\"dataframe\">\n",
       "  <thead>\n",
       "    <tr style=\"text-align: right;\">\n",
       "      <th></th>\n",
       "      <th>Rg</th>\n",
       "      <th>albedo</th>\n",
       "      <th>ST_C</th>\n",
       "      <th>EmisWB</th>\n",
       "      <th>Ta_C</th>\n",
       "      <th>RH</th>\n",
       "    </tr>\n",
       "  </thead>\n",
       "  <tbody>\n",
       "    <tr>\n",
       "      <th>0</th>\n",
       "      <td>0.000000</td>\n",
       "      <td>0.027717</td>\n",
       "      <td>0.89</td>\n",
       "      <td>0.972</td>\n",
       "      <td>-2.512519</td>\n",
       "      <td>1.000000</td>\n",
       "    </tr>\n",
       "    <tr>\n",
       "      <th>1</th>\n",
       "      <td>0.000000</td>\n",
       "      <td>0.036438</td>\n",
       "      <td>35.39</td>\n",
       "      <td>0.940</td>\n",
       "      <td>4.822851</td>\n",
       "      <td>0.630401</td>\n",
       "    </tr>\n",
       "    <tr>\n",
       "      <th>2</th>\n",
       "      <td>0.000000</td>\n",
       "      <td>0.077051</td>\n",
       "      <td>13.17</td>\n",
       "      <td>0.966</td>\n",
       "      <td>11.629330</td>\n",
       "      <td>0.814974</td>\n",
       "    </tr>\n",
       "    <tr>\n",
       "      <th>4</th>\n",
       "      <td>19.590548</td>\n",
       "      <td>0.115091</td>\n",
       "      <td>28.03</td>\n",
       "      <td>0.974</td>\n",
       "      <td>26.243547</td>\n",
       "      <td>0.556663</td>\n",
       "    </tr>\n",
       "    <tr>\n",
       "      <th>5</th>\n",
       "      <td>5.813275</td>\n",
       "      <td>0.123871</td>\n",
       "      <td>24.61</td>\n",
       "      <td>0.948</td>\n",
       "      <td>26.553339</td>\n",
       "      <td>0.547092</td>\n",
       "    </tr>\n",
       "    <tr>\n",
       "      <th>...</th>\n",
       "      <td>...</td>\n",
       "      <td>...</td>\n",
       "      <td>...</td>\n",
       "      <td>...</td>\n",
       "      <td>...</td>\n",
       "      <td>...</td>\n",
       "    </tr>\n",
       "    <tr>\n",
       "      <th>244</th>\n",
       "      <td>0.000000</td>\n",
       "      <td>0.109698</td>\n",
       "      <td>1.15</td>\n",
       "      <td>0.970</td>\n",
       "      <td>5.191363</td>\n",
       "      <td>0.420223</td>\n",
       "    </tr>\n",
       "    <tr>\n",
       "      <th>245</th>\n",
       "      <td>0.000000</td>\n",
       "      <td>0.059555</td>\n",
       "      <td>8.09</td>\n",
       "      <td>0.956</td>\n",
       "      <td>12.657937</td>\n",
       "      <td>0.599936</td>\n",
       "    </tr>\n",
       "    <tr>\n",
       "      <th>246</th>\n",
       "      <td>63.251832</td>\n",
       "      <td>0.115424</td>\n",
       "      <td>29.33</td>\n",
       "      <td>0.974</td>\n",
       "      <td>29.333225</td>\n",
       "      <td>0.609216</td>\n",
       "    </tr>\n",
       "    <tr>\n",
       "      <th>247</th>\n",
       "      <td>32.857876</td>\n",
       "      <td>0.162858</td>\n",
       "      <td>26.43</td>\n",
       "      <td>0.962</td>\n",
       "      <td>29.102583</td>\n",
       "      <td>0.696927</td>\n",
       "    </tr>\n",
       "    <tr>\n",
       "      <th>250</th>\n",
       "      <td>260.109914</td>\n",
       "      <td>0.107731</td>\n",
       "      <td>30.71</td>\n",
       "      <td>0.958</td>\n",
       "      <td>28.485040</td>\n",
       "      <td>0.585731</td>\n",
       "    </tr>\n",
       "  </tbody>\n",
       "</table>\n",
       "<p>174 rows × 6 columns</p>\n",
       "</div>"
      ],
      "text/plain": [
       "             Rg    albedo   ST_C  EmisWB       Ta_C        RH\n",
       "0      0.000000  0.027717   0.89   0.972  -2.512519  1.000000\n",
       "1      0.000000  0.036438  35.39   0.940   4.822851  0.630401\n",
       "2      0.000000  0.077051  13.17   0.966  11.629330  0.814974\n",
       "4     19.590548  0.115091  28.03   0.974  26.243547  0.556663\n",
       "5      5.813275  0.123871  24.61   0.948  26.553339  0.547092\n",
       "..          ...       ...    ...     ...        ...       ...\n",
       "244    0.000000  0.109698   1.15   0.970   5.191363  0.420223\n",
       "245    0.000000  0.059555   8.09   0.956  12.657937  0.599936\n",
       "246   63.251832  0.115424  29.33   0.974  29.333225  0.609216\n",
       "247   32.857876  0.162858  26.43   0.962  29.102583  0.696927\n",
       "250  260.109914  0.107731  30.71   0.958  28.485040  0.585731\n",
       "\n",
       "[174 rows x 6 columns]"
      ]
     },
     "execution_count": 2,
     "metadata": {},
     "output_type": "execute_result"
    }
   ],
   "source": [
    "input_df = pd.read_csv(\"calval_final_50_PTJPL_inputs.csv\")\n",
    "input_df = input_df[[\"Rg\", \"albedo\", \"ST_C\", \"EmisWB\", \"Ta_C\", \"RH\"]]\n",
    "input_df = input_df.dropna()\n",
    "input_df"
   ]
  },
  {
   "cell_type": "code",
   "execution_count": 3,
   "metadata": {},
   "outputs": [
    {
     "ename": "ValueError",
     "evalue": "missing required column: time_UTC",
     "output_type": "error",
     "traceback": [
      "\u001b[0;31m---------------------------------------------------------------------------\u001b[0m",
      "\u001b[0;31mValueError\u001b[0m                                Traceback (most recent call last)",
      "Cell \u001b[0;32mIn[3], line 1\u001b[0m\n\u001b[0;32m----> 1\u001b[0m run_df \u001b[38;5;241m=\u001b[39m \u001b[43mperturbed_run\u001b[49m\u001b[43m(\u001b[49m\u001b[43minput_df\u001b[49m\u001b[43m,\u001b[49m\u001b[43m \u001b[49m\u001b[38;5;124;43m\"\u001b[39;49m\u001b[38;5;124;43mST_C\u001b[39;49m\u001b[38;5;124;43m\"\u001b[39;49m\u001b[43m,\u001b[49m\u001b[43m \u001b[49m\u001b[38;5;124;43m\"\u001b[39;49m\u001b[38;5;124;43mRn\u001b[39;49m\u001b[38;5;124;43m\"\u001b[39;49m\u001b[43m,\u001b[49m\u001b[43m \u001b[49m\u001b[43mverma_net_radiation_table\u001b[49m\u001b[43m)\u001b[49m\n\u001b[1;32m      2\u001b[0m run_df\n",
      "File \u001b[0;32m/opt/homebrew/Caskroom/miniforge/base/envs/verma-net-radiation/lib/python3.10/site-packages/monte_carlo_sensitivity/perturbed_run.py:63\u001b[0m, in \u001b[0;36mperturbed_run\u001b[0;34m(input_df, input_variable, output_variable, forward_process, perturbation_process, normalization_function, n, perturbation_mean, perturbation_std, dropna)\u001b[0m\n\u001b[1;32m     60\u001b[0m     perturbation_std \u001b[38;5;241m=\u001b[39m input_std\n\u001b[1;32m     62\u001b[0m \u001b[38;5;66;03m# forward process the unperturbed input\u001b[39;00m\n\u001b[0;32m---> 63\u001b[0m unperturbed_output_df \u001b[38;5;241m=\u001b[39m \u001b[43mforward_process\u001b[49m\u001b[43m(\u001b[49m\u001b[43minput_df\u001b[49m\u001b[43m)\u001b[49m\n\u001b[1;32m     64\u001b[0m \u001b[38;5;66;03m# calculate standard deviation of the output variable\u001b[39;00m\n\u001b[1;32m     65\u001b[0m output_std \u001b[38;5;241m=\u001b[39m np\u001b[38;5;241m.\u001b[39mnanstd(unperturbed_output_df[output_variable])\n",
      "File \u001b[0;32m~/Projects/verma-net-radiation/verma_net_radiation/verma_net_radiation_table.py:83\u001b[0m, in \u001b[0;36mverma_net_radiation_table\u001b[0;34m(verma_net_radiation_inputs_df, upscale_to_daily)\u001b[0m\n\u001b[1;32m     57\u001b[0m \u001b[38;5;250m\u001b[39m\u001b[38;5;124;03m\"\"\"\u001b[39;00m\n\u001b[1;32m     58\u001b[0m \u001b[38;5;124;03mProcess a DataFrame containing inputs for Verma net radiation calculations.\u001b[39;00m\n\u001b[1;32m     59\u001b[0m \n\u001b[0;32m   (...)\u001b[0m\n\u001b[1;32m     80\u001b[0m \u001b[38;5;124;03m        - Rn: Instantaneous net radiation (W/m²).\u001b[39;00m\n\u001b[1;32m     81\u001b[0m \u001b[38;5;124;03m\"\"\"\u001b[39;00m\n\u001b[1;32m     82\u001b[0m \u001b[38;5;28;01mif\u001b[39;00m \u001b[38;5;124m\"\u001b[39m\u001b[38;5;124mtime_UTC\u001b[39m\u001b[38;5;124m\"\u001b[39m \u001b[38;5;129;01mnot\u001b[39;00m \u001b[38;5;129;01min\u001b[39;00m verma_net_radiation_inputs_df:\n\u001b[0;32m---> 83\u001b[0m     \u001b[38;5;28;01mraise\u001b[39;00m \u001b[38;5;167;01mValueError\u001b[39;00m(\u001b[38;5;124m\"\u001b[39m\u001b[38;5;124mmissing required column: time_UTC\u001b[39m\u001b[38;5;124m\"\u001b[39m)\n\u001b[1;32m     85\u001b[0m time_UTC \u001b[38;5;241m=\u001b[39m pd\u001b[38;5;241m.\u001b[39mto_datetime(verma_net_radiation_inputs_df\u001b[38;5;241m.\u001b[39mtime_UTC)\u001b[38;5;241m.\u001b[39mtolist()\n\u001b[1;32m     87\u001b[0m \u001b[38;5;28;01mif\u001b[39;00m \u001b[38;5;124m\"\u001b[39m\u001b[38;5;124mgeometry\u001b[39m\u001b[38;5;124m\"\u001b[39m \u001b[38;5;129;01mnot\u001b[39;00m \u001b[38;5;129;01min\u001b[39;00m verma_net_radiation_inputs_df:\n",
      "\u001b[0;31mValueError\u001b[0m: missing required column: time_UTC"
     ]
    }
   ],
   "source": [
    "run_df = perturbed_run(input_df, \"ST_C\", \"Rn\", verma_net_radiation_table)\n",
    "run_df"
   ]
  },
  {
   "cell_type": "code",
   "execution_count": null,
   "metadata": {},
   "outputs": [],
   "source": [
    "np.nanmean(run_df.output_perturbation_std)"
   ]
  },
  {
   "cell_type": "code",
   "execution_count": null,
   "metadata": {},
   "outputs": [],
   "source": [
    "input_variables = [\"ST_C\", \"EmisWB\", \"albedo\", \"Rg\", \"Ta_C\", \"RH\"]\n",
    "output_variables = [\"Rn\"]\n",
    "\n",
    "perturbation_df, sensitivity_metrics_df = sensitivity_analysis(\n",
    "    input_df=input_df,\n",
    "    input_variables=input_variables,\n",
    "    output_variables=output_variables,\n",
    "    forward_process=verma_net_radiation_table\n",
    ")\n",
    "\n",
    "sensitivity_metrics_df"
   ]
  },
  {
   "cell_type": "code",
   "execution_count": null,
   "metadata": {},
   "outputs": [],
   "source": [
    "df = sensitivity_metrics_df\n",
    "df = df[(df.output_variable == \"Rn\") & (df.metric == \"correlation\")]\n",
    "df = df.dropna()\n",
    "ax = sns.barplot(x=df.input_variable, y=df.value)\n",
    "ax.set_xticklabels([\"Surface\\nTemperature\", \"Emissivity\", \"Albedo\", \"Solar\\nRadiation\", \"Air\\nTemperature\", \"Humidity\"])\n",
    "plt.xlabel(\"Input Variable\")\n",
    "plt.ylabel(\"Correlation of Input Perturbation to Output Perturbation\")\n",
    "plt.title(\"Verma Net Radiation Sensitivity\")"
   ]
  },
  {
   "cell_type": "code",
   "execution_count": null,
   "metadata": {},
   "outputs": [],
   "source": [
    "df = sensitivity_metrics_df\n",
    "df = df[(df.output_variable == \"Rn\") & (df.metric == \"r2\")]\n",
    "df = df.dropna()\n",
    "df = df[df.value>0]\n",
    "ax = sns.barplot(x=df.input_variable, y=df.value)\n",
    "ax.set_xticklabels([\"Surface\\nTemperature\", \"Emissivity\", \"Albedo\", \"Solar\\nRadiation\", \"Air\\nTemperature\", \"Humidity\"])\n",
    "plt.xlabel(\"Input Variable\")\n",
    "plt.ylabel(\"Coefficient of Determination\\nfrom Input Perturbation to Output Perturbation\")\n",
    "plt.title(\"Verma Net Radiation Sensitivity\")"
   ]
  },
  {
   "cell_type": "code",
   "execution_count": null,
   "metadata": {},
   "outputs": [],
   "source": []
  }
 ],
 "metadata": {
  "kernelspec": {
   "display_name": "verma-net-radiation",
   "language": "python",
   "name": "python3"
  },
  "language_info": {
   "codemirror_mode": {
    "name": "ipython",
    "version": 3
   },
   "file_extension": ".py",
   "mimetype": "text/x-python",
   "name": "python",
   "nbconvert_exporter": "python",
   "pygments_lexer": "ipython3",
   "version": "3.10.18"
  }
 },
 "nbformat": 4,
 "nbformat_minor": 2
}
